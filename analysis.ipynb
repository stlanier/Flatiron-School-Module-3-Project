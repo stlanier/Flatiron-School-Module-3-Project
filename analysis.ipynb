{
 "cells": [
  {
   "cell_type": "markdown",
   "metadata": {},
   "source": [
    "# Predicting Heart Disease\n",
    "\n",
    "This is a binary classification projection––with or without heart disease––with the overall goal of model accuracy. The dataset, [obtained from Kaggle](https://www.kaggle.com/danimal/heartdiseaseensembleclassifier?select=Heart_Disease_Data.csv), consists of 303 observations and [13 features](https://www.kaggle.com/iamkon/ml-models-performance-on-risk-prediction#Complete-attribute-documentation). Of the 303 observation, 160 are without heart disease and the remaining 143 have some degree of heart disease. The study from which the data are drawn distinguishes between not having heart disease (0, in the 'pred_attribute' column) and 4 degrees of having the disease (1, 2, 3, 4). [Experiments with this dataset have concentrated on simply distinguishing between having and not having the disease](https://www.kaggle.com/iamkon/ml-models-performance-on-risk-prediction), and I have done the same here.\n",
    "\n",
    "The dataset is already fairly clean, which gave me an opportunity to spend more time comparing the performance of a variety of models––a logistic regression model, SVCs, a KNN model, decision trees and Random Forests, and AdaBoost and XGBoost––as well as to try putting together an ensemble of my own."
   ]
  },
  {
   "cell_type": "code",
   "execution_count": 150,
   "metadata": {},
   "outputs": [],
   "source": [
    "import pandas as pd\n",
    "import numpy as np\n",
    "import matplotlib.pyplot as plt\n",
    "import seaborn as sns\n",
    "import pydotplus\n",
    "import collections\n",
    "\n",
    "from sklearn.model_selection import train_test_split, GridSearchCV, cross_val_score\n",
    "from sklearn.preprocessing import StandardScaler\n",
    "from sklearn.metrics import accuracy_score, confusion_matrix\n",
    "\n",
    "from sklearn.neighbors import KNeighborsClassifier\n",
    "from sklearn.svm import SVC\n",
    "from sklearn import tree\n",
    "from sklearn.tree import DecisionTreeClassifier\n",
    "from sklearn.ensemble import RandomForestClassifier, AdaBoostClassifier, VotingClassifier\n",
    "from sklearn.linear_model import LogisticRegressionCV, LogisticRegression\n",
    "from xgboost import XGBClassifier\n",
    "\n",
    "%matplotlib inline"
   ]
  },
  {
   "cell_type": "markdown",
   "metadata": {},
   "source": [
    "## Exploratory Data Analysis"
   ]
  },
  {
   "cell_type": "code",
   "execution_count": 151,
   "metadata": {},
   "outputs": [
    {
     "data": {
      "text/html": [
       "<div>\n",
       "<style scoped>\n",
       "    .dataframe tbody tr th:only-of-type {\n",
       "        vertical-align: middle;\n",
       "    }\n",
       "\n",
       "    .dataframe tbody tr th {\n",
       "        vertical-align: top;\n",
       "    }\n",
       "\n",
       "    .dataframe thead th {\n",
       "        text-align: right;\n",
       "    }\n",
       "</style>\n",
       "<table border=\"1\" class=\"dataframe\">\n",
       "  <thead>\n",
       "    <tr style=\"text-align: right;\">\n",
       "      <th></th>\n",
       "      <th>age</th>\n",
       "      <th>sex</th>\n",
       "      <th>cp</th>\n",
       "      <th>trestbps</th>\n",
       "      <th>chol</th>\n",
       "      <th>fbs</th>\n",
       "      <th>restecg</th>\n",
       "      <th>thalach</th>\n",
       "      <th>exang</th>\n",
       "      <th>oldpeak</th>\n",
       "      <th>slop</th>\n",
       "      <th>ca</th>\n",
       "      <th>thal</th>\n",
       "      <th>pred_attribute</th>\n",
       "    </tr>\n",
       "  </thead>\n",
       "  <tbody>\n",
       "    <tr>\n",
       "      <td>0</td>\n",
       "      <td>63</td>\n",
       "      <td>1</td>\n",
       "      <td>1</td>\n",
       "      <td>145</td>\n",
       "      <td>233</td>\n",
       "      <td>1</td>\n",
       "      <td>2</td>\n",
       "      <td>150</td>\n",
       "      <td>0</td>\n",
       "      <td>2.3</td>\n",
       "      <td>3</td>\n",
       "      <td>0</td>\n",
       "      <td>6</td>\n",
       "      <td>0</td>\n",
       "    </tr>\n",
       "    <tr>\n",
       "      <td>1</td>\n",
       "      <td>67</td>\n",
       "      <td>1</td>\n",
       "      <td>4</td>\n",
       "      <td>160</td>\n",
       "      <td>286</td>\n",
       "      <td>0</td>\n",
       "      <td>2</td>\n",
       "      <td>108</td>\n",
       "      <td>1</td>\n",
       "      <td>1.5</td>\n",
       "      <td>2</td>\n",
       "      <td>3</td>\n",
       "      <td>3</td>\n",
       "      <td>2</td>\n",
       "    </tr>\n",
       "    <tr>\n",
       "      <td>2</td>\n",
       "      <td>67</td>\n",
       "      <td>1</td>\n",
       "      <td>4</td>\n",
       "      <td>120</td>\n",
       "      <td>229</td>\n",
       "      <td>0</td>\n",
       "      <td>2</td>\n",
       "      <td>129</td>\n",
       "      <td>1</td>\n",
       "      <td>2.6</td>\n",
       "      <td>2</td>\n",
       "      <td>2</td>\n",
       "      <td>7</td>\n",
       "      <td>1</td>\n",
       "    </tr>\n",
       "    <tr>\n",
       "      <td>3</td>\n",
       "      <td>37</td>\n",
       "      <td>1</td>\n",
       "      <td>3</td>\n",
       "      <td>130</td>\n",
       "      <td>250</td>\n",
       "      <td>0</td>\n",
       "      <td>0</td>\n",
       "      <td>187</td>\n",
       "      <td>0</td>\n",
       "      <td>3.5</td>\n",
       "      <td>3</td>\n",
       "      <td>0</td>\n",
       "      <td>3</td>\n",
       "      <td>0</td>\n",
       "    </tr>\n",
       "    <tr>\n",
       "      <td>4</td>\n",
       "      <td>41</td>\n",
       "      <td>0</td>\n",
       "      <td>2</td>\n",
       "      <td>130</td>\n",
       "      <td>204</td>\n",
       "      <td>0</td>\n",
       "      <td>2</td>\n",
       "      <td>172</td>\n",
       "      <td>0</td>\n",
       "      <td>1.4</td>\n",
       "      <td>1</td>\n",
       "      <td>0</td>\n",
       "      <td>3</td>\n",
       "      <td>0</td>\n",
       "    </tr>\n",
       "  </tbody>\n",
       "</table>\n",
       "</div>"
      ],
      "text/plain": [
       "   age  sex  cp  trestbps  chol  fbs  restecg  thalach  exang  oldpeak  slop  \\\n",
       "0   63    1   1       145   233    1        2      150      0      2.3     3   \n",
       "1   67    1   4       160   286    0        2      108      1      1.5     2   \n",
       "2   67    1   4       120   229    0        2      129      1      2.6     2   \n",
       "3   37    1   3       130   250    0        0      187      0      3.5     3   \n",
       "4   41    0   2       130   204    0        2      172      0      1.4     1   \n",
       "\n",
       "  ca thal  pred_attribute  \n",
       "0  0    6               0  \n",
       "1  3    3               2  \n",
       "2  2    7               1  \n",
       "3  0    3               0  \n",
       "4  0    3               0  "
      ]
     },
     "execution_count": 151,
     "metadata": {},
     "output_type": "execute_result"
    }
   ],
   "source": [
    "df = pd.read_csv('data/Heart_Disease_Data.csv')\n",
    "df.head()"
   ]
  },
  {
   "cell_type": "code",
   "execution_count": 152,
   "metadata": {},
   "outputs": [
    {
     "data": {
      "text/plain": [
       "(303, 14)"
      ]
     },
     "execution_count": 152,
     "metadata": {},
     "output_type": "execute_result"
    }
   ],
   "source": [
    "df.shape"
   ]
  },
  {
   "cell_type": "code",
   "execution_count": 153,
   "metadata": {
    "scrolled": true
   },
   "outputs": [
    {
     "name": "stdout",
     "output_type": "stream",
     "text": [
      "<class 'pandas.core.frame.DataFrame'>\n",
      "RangeIndex: 303 entries, 0 to 302\n",
      "Data columns (total 14 columns):\n",
      "age               303 non-null int64\n",
      "sex               303 non-null int64\n",
      "cp                303 non-null int64\n",
      "trestbps          303 non-null int64\n",
      "chol              303 non-null int64\n",
      "fbs               303 non-null int64\n",
      "restecg           303 non-null int64\n",
      "thalach           303 non-null int64\n",
      "exang             303 non-null int64\n",
      "oldpeak           303 non-null float64\n",
      "slop              303 non-null int64\n",
      "ca                303 non-null object\n",
      "thal              303 non-null object\n",
      "pred_attribute    303 non-null int64\n",
      "dtypes: float64(1), int64(11), object(2)\n",
      "memory usage: 33.3+ KB\n"
     ]
    }
   ],
   "source": [
    "df.info()"
   ]
  },
  {
   "cell_type": "markdown",
   "metadata": {},
   "source": [
    "Here, I'm taking a closer look at categorical variables."
   ]
  },
  {
   "cell_type": "code",
   "execution_count": 154,
   "metadata": {},
   "outputs": [
    {
     "data": {
      "text/plain": [
       "0    176\n",
       "1     65\n",
       "2     38\n",
       "3     20\n",
       "?      4\n",
       "Name: ca, dtype: int64"
      ]
     },
     "execution_count": 154,
     "metadata": {},
     "output_type": "execute_result"
    }
   ],
   "source": [
    "df['ca'].value_counts()"
   ]
  },
  {
   "cell_type": "code",
   "execution_count": 155,
   "metadata": {
    "scrolled": true
   },
   "outputs": [
    {
     "data": {
      "text/plain": [
       "3    166\n",
       "7    117\n",
       "6     18\n",
       "?      2\n",
       "Name: thal, dtype: int64"
      ]
     },
     "execution_count": 155,
     "metadata": {},
     "output_type": "execute_result"
    }
   ],
   "source": [
    "df['thal'].value_counts()"
   ]
  },
  {
   "cell_type": "markdown",
   "metadata": {},
   "source": [
    "I change placeholder values to 'None' so I can use .dropna to drop these very few observations from my dataset. That seemed the simpler solution than trying to impute values on a categorical variable."
   ]
  },
  {
   "cell_type": "code",
   "execution_count": 156,
   "metadata": {},
   "outputs": [
    {
     "name": "stderr",
     "output_type": "stream",
     "text": [
      "/Users/stlanier/opt/anaconda3/envs/learn-env/lib/python3.6/site-packages/pandas/core/indexing.py:205: SettingWithCopyWarning: \n",
      "A value is trying to be set on a copy of a slice from a DataFrame\n",
      "\n",
      "See the caveats in the documentation: http://pandas.pydata.org/pandas-docs/stable/user_guide/indexing.html#returning-a-view-versus-a-copy\n",
      "  self._setitem_with_indexer(indexer, value)\n"
     ]
    }
   ],
   "source": [
    "df['ca'].loc[df['ca']=='?'] = None\n",
    "df['thal'].loc[df['thal']=='?'] = None"
   ]
  },
  {
   "cell_type": "code",
   "execution_count": 157,
   "metadata": {},
   "outputs": [],
   "source": [
    "df = df.dropna(axis=0)\n",
    "df['ca'] = df['ca'].astype('int')\n",
    "df['thal'] = df['thal'].astype('int')\n",
    "X = df.drop('pred_attribute', axis=1)\n",
    "y = df['pred_attribute']"
   ]
  },
  {
   "cell_type": "markdown",
   "metadata": {},
   "source": [
    "Let's take a look at the distribution of values for each feature."
   ]
  },
  {
   "cell_type": "code",
   "execution_count": 158,
   "metadata": {},
   "outputs": [
    {
     "data": {
      "text/plain": [
       "array([[<matplotlib.axes._subplots.AxesSubplot object at 0x7f9b34aba0b8>,\n",
       "        <matplotlib.axes._subplots.AxesSubplot object at 0x7f9b313a9978>,\n",
       "        <matplotlib.axes._subplots.AxesSubplot object at 0x7f9b340fc1d0>,\n",
       "        <matplotlib.axes._subplots.AxesSubplot object at 0x7f9b4ec463c8>],\n",
       "       [<matplotlib.axes._subplots.AxesSubplot object at 0x7f9b4ed74198>,\n",
       "        <matplotlib.axes._subplots.AxesSubplot object at 0x7f9b49ff82e8>,\n",
       "        <matplotlib.axes._subplots.AxesSubplot object at 0x7f9b4d2c97f0>,\n",
       "        <matplotlib.axes._subplots.AxesSubplot object at 0x7f9b4e840198>],\n",
       "       [<matplotlib.axes._subplots.AxesSubplot object at 0x7f9b4e8402e8>,\n",
       "        <matplotlib.axes._subplots.AxesSubplot object at 0x7f9b4e7c41d0>,\n",
       "        <matplotlib.axes._subplots.AxesSubplot object at 0x7f9b4d22ecc0>,\n",
       "        <matplotlib.axes._subplots.AxesSubplot object at 0x7f9b4d8f6550>],\n",
       "       [<matplotlib.axes._subplots.AxesSubplot object at 0x7f9b4c5bca90>,\n",
       "        <matplotlib.axes._subplots.AxesSubplot object at 0x7f9b30722b70>,\n",
       "        <matplotlib.axes._subplots.AxesSubplot object at 0x7f9b30744cc0>,\n",
       "        <matplotlib.axes._subplots.AxesSubplot object at 0x7f9b30768e10>]],\n",
       "      dtype=object)"
      ]
     },
     "execution_count": 158,
     "metadata": {},
     "output_type": "execute_result"
    },
    {
     "data": {
      "image/png": "[encoded data removed]",
      "text/plain": [
       "<Figure size 1080x864 with 16 Axes>"
      ]
     },
     "metadata": {
      "needs_background": "light"
     },
     "output_type": "display_data"
    }
   ],
   "source": [
    "X.hist(figsize=(15, 12))"
   ]
  },
  {
   "cell_type": "markdown",
   "metadata": {},
   "source": [
    "'ca', 'cp', 'exang', 'fbs', 'restecg', 'sex', 'slop', 'thal' ALL appear to be categorical. My continuous variables have very different ranges––\\[0, 6\\] for 'oldpeak', but \\[100, 200\\] for 'trestbps'––so I'll probably standardize them to be on the safe side.\n",
    "\n",
    "Below, I'm casting all my labels greater than 0 as 1 because, for the sake of this project, 1, 2, 3, 4 are all degrees of heart disease. Simply recasting them all as 1."
   ]
  },
  {
   "cell_type": "code",
   "execution_count": 159,
   "metadata": {},
   "outputs": [
    {
     "name": "stderr",
     "output_type": "stream",
     "text": [
      "/Users/stlanier/opt/anaconda3/envs/learn-env/lib/python3.6/site-packages/ipykernel_launcher.py:1: SettingWithCopyWarning: \n",
      "A value is trying to be set on a copy of a slice from a DataFrame\n",
      "\n",
      "See the caveats in the documentation: http://pandas.pydata.org/pandas-docs/stable/user_guide/indexing.html#returning-a-view-versus-a-copy\n",
      "  \"\"\"Entry point for launching an IPython kernel.\n"
     ]
    }
   ],
   "source": [
    "y[y>0]=1"
   ]
  },
  {
   "cell_type": "markdown",
   "metadata": {},
   "source": [
    "And with that, it's time to create train and test sets, as well as to try a first set of models to see how they perform out of the box."
   ]
  },
  {
   "cell_type": "markdown",
   "metadata": {},
   "source": [
    "## Very Early Baseline Models"
   ]
  },
  {
   "cell_type": "code",
   "execution_count": 160,
   "metadata": {},
   "outputs": [],
   "source": [
    "X_train, X_test, y_train, y_test = train_test_split(X, y, test_size=.25, random_state=123)"
   ]
  },
  {
   "cell_type": "code",
   "execution_count": 161,
   "metadata": {
    "scrolled": true
   },
   "outputs": [
    {
     "name": "stdout",
     "output_type": "stream",
     "text": [
      "LogReg    0.866667\n",
      "RF        0.826667\n",
      "XGB       0.813333\n",
      "DT        0.773333\n",
      "Ada       0.720000\n",
      "KNN       0.586667\n",
      "SVC       0.546667\n",
      "dtype: float64\n"
     ]
    },
    {
     "name": "stderr",
     "output_type": "stream",
     "text": [
      "/Users/stlanier/opt/anaconda3/envs/learn-env/lib/python3.6/site-packages/sklearn/linear_model/logistic.py:432: FutureWarning: Default solver will be changed to 'lbfgs' in 0.22. Specify a solver to silence this warning.\n",
      "  FutureWarning)\n",
      "/Users/stlanier/opt/anaconda3/envs/learn-env/lib/python3.6/site-packages/sklearn/ensemble/forest.py:245: FutureWarning: The default value of n_estimators will change from 10 in version 0.20 to 100 in 0.22.\n",
      "  \"10 in version 0.20 to 100 in 0.22.\", FutureWarning)\n"
     ]
    }
   ],
   "source": [
    "baseline_classifiers = {'LogReg': LogisticRegression(random_state=42),\n",
    "                        'KNN': KNeighborsClassifier(n_neighbors=3),\n",
    "                        'SVC': SVC(gamma='auto', random_state=42),\n",
    "                        'DT': DecisionTreeClassifier(random_state=42),\n",
    "                        'RF': RandomForestClassifier(random_state=42),\n",
    "                        'Ada': AdaBoostClassifier(DecisionTreeClassifier(random_state=42), random_state=42), \n",
    "                        'XGB': XGBClassifier(random_state=42)}\n",
    "\n",
    "baseline = {}\n",
    "for clf in baseline_classifiers:\n",
    "    name = clf\n",
    "    clf = baseline_classifiers[clf]\n",
    "    clf.fit(X_train, y_train)\n",
    "    preds = clf.predict(X_test)\n",
    "    acc = accuracy_score(y_test, preds)\n",
    "    baseline[name] = acc\n",
    "print(pd.Series(baseline).sort_values(ascending=False))"
   ]
  },
  {
   "cell_type": "markdown",
   "metadata": {},
   "source": [
    "Not bad at all, with logistic regression and a random forest leading the pack at 83% accuracy on test data. KNN and (radial basis function) SVC don't do much better than random guessing though."
   ]
  },
  {
   "cell_type": "markdown",
   "metadata": {},
   "source": [
    "Before I move onto tuning models, I want to try tuning my data first. Who said, \"Good models don't come from good models; good models come from good data\"?"
   ]
  },
  {
   "cell_type": "markdown",
   "metadata": {},
   "source": [
    "## Feature Engineering"
   ]
  },
  {
   "cell_type": "markdown",
   "metadata": {},
   "source": [
    "I start by looking for highly correlated features and using a Random Forest to gauge feature importance."
   ]
  },
  {
   "cell_type": "code",
   "execution_count": 162,
   "metadata": {
    "scrolled": false
   },
   "outputs": [
    {
     "data": {
      "image/png": "[encoded data removed]",
      "text/plain": [
       "<Figure size 1800x1440 with 2 Axes>"
      ]
     },
     "metadata": {
      "needs_background": "light"
     },
     "output_type": "display_data"
    }
   ],
   "source": [
    "sns.heatmap(X.corr(),annot=True,cmap='RdYlGn')\n",
    "fig=plt.gcf()\n",
    "fig.set_size_inches(25,20)\n",
    "#plt.figure(figsize=(14,12))\n",
    "plt.title('Pearson Correlation of Features', y=1.05, size=15)\n",
    "plt.show()"
   ]
  },
  {
   "cell_type": "code",
   "execution_count": 163,
   "metadata": {
    "scrolled": true
   },
   "outputs": [
    {
     "data": {
      "text/plain": [
       "thalach     0.128969\n",
       "cp          0.122558\n",
       "thal        0.112145\n",
       "ca          0.106617\n",
       "oldpeak     0.104328\n",
       "age         0.091347\n",
       "chol        0.083361\n",
       "trestbps    0.080489\n",
       "exang       0.064376\n",
       "slop        0.046107\n",
       "sex         0.027416\n",
       "restecg     0.024662\n",
       "fbs         0.007625\n",
       "dtype: float64"
      ]
     },
     "execution_count": 163,
     "metadata": {},
     "output_type": "execute_result"
    }
   ],
   "source": [
    "rf = RandomForestClassifier(n_estimators=100, random_state=42)\n",
    "rf.fit(X_train, y_train)\n",
    "pd.Series(rf.feature_importances_, index=X.columns).sort_values(ascending=False)"
   ]
  },
  {
   "cell_type": "markdown",
   "metadata": {},
   "source": [
    "According to this model, 'thalach' appears to be the most import feature for this dataset, but looking at the heatmap above, it's also the most correlated with the most other features. If I had to pick just one feature, I'd choose this one, but for the sake of choosing multiple features, I'm going to exclude it; none of my other features are so highly correlated with each other. I take instead 'cp' through 'trestbps' (cutoff chosen somewhat arbitrarily)."
   ]
  },
  {
   "cell_type": "code",
   "execution_count": 198,
   "metadata": {},
   "outputs": [],
   "source": [
    "new_colspace = ['oldpeak', 'chol', 'age', 'trestbps', 'ca', 'cp', 'thal']\n",
    "X_train = X_train[new_colspace]\n",
    "X_test = X_test[new_colspace]"
   ]
  },
  {
   "cell_type": "markdown",
   "metadata": {},
   "source": [
    "And I standardize my predictors."
   ]
  },
  {
   "cell_type": "code",
   "execution_count": 199,
   "metadata": {},
   "outputs": [],
   "source": [
    "ss = StandardScaler()\n",
    "X_train = pd.DataFrame(ss.fit_transform(X_train), columns=new_colspace)\n",
    "X_test = pd.DataFrame(ss.transform(X_test), columns=new_colspace)"
   ]
  },
  {
   "cell_type": "code",
   "execution_count": 166,
   "metadata": {
    "scrolled": false
   },
   "outputs": [
    {
     "data": {
      "text/plain": [
       "array([[<matplotlib.axes._subplots.AxesSubplot object at 0x7f9b31f343c8>,\n",
       "        <matplotlib.axes._subplots.AxesSubplot object at 0x7f9b31f2e668>,\n",
       "        <matplotlib.axes._subplots.AxesSubplot object at 0x7f9b30554c18>],\n",
       "       [<matplotlib.axes._subplots.AxesSubplot object at 0x7f9b30584208>,\n",
       "        <matplotlib.axes._subplots.AxesSubplot object at 0x7f9b305ab7b8>,\n",
       "        <matplotlib.axes._subplots.AxesSubplot object at 0x7f9b305d3d68>],\n",
       "       [<matplotlib.axes._subplots.AxesSubplot object at 0x7f9b30602358>,\n",
       "        <matplotlib.axes._subplots.AxesSubplot object at 0x7f9b30630940>,\n",
       "        <matplotlib.axes._subplots.AxesSubplot object at 0x7f9b30630978>]],\n",
       "      dtype=object)"
      ]
     },
     "execution_count": 166,
     "metadata": {},
     "output_type": "execute_result"
    },
    {
     "data": {
      "image/png": "[encoded data removed]",
      "text/plain": [
       "<Figure size 1080x864 with 9 Axes>"
      ]
     },
     "metadata": {
      "needs_background": "light"
     },
     "output_type": "display_data"
    }
   ],
   "source": [
    "X_train.hist(figsize=(15, 12))"
   ]
  },
  {
   "cell_type": "markdown",
   "metadata": {},
   "source": [
    "Much better. My features are now all spread, more or less, between \\[-2, 2\\]."
   ]
  },
  {
   "cell_type": "markdown",
   "metadata": {},
   "source": [
    "## New Baseline Models for Processed Data"
   ]
  },
  {
   "cell_type": "code",
   "execution_count": 167,
   "metadata": {
    "scrolled": true
   },
   "outputs": [
    {
     "name": "stdout",
     "output_type": "stream",
     "text": [
      "RF        0.853333\n",
      "LogReg    0.853333\n",
      "KNN       0.840000\n",
      "SVC       0.813333\n",
      "XGB       0.800000\n",
      "Ada       0.760000\n",
      "DT        0.746667\n",
      "dtype: float64\n"
     ]
    },
    {
     "name": "stderr",
     "output_type": "stream",
     "text": [
      "/Users/stlanier/opt/anaconda3/envs/learn-env/lib/python3.6/site-packages/sklearn/model_selection/_split.py:1978: FutureWarning: The default value of cv will change from 3 to 5 in version 0.22. Specify it explicitly to silence this warning.\n",
      "  warnings.warn(CV_WARNING, FutureWarning)\n",
      "/Users/stlanier/opt/anaconda3/envs/learn-env/lib/python3.6/site-packages/sklearn/ensemble/forest.py:245: FutureWarning: The default value of n_estimators will change from 10 in version 0.20 to 100 in 0.22.\n",
      "  \"10 in version 0.20 to 100 in 0.22.\", FutureWarning)\n"
     ]
    }
   ],
   "source": [
    "baseline_classifiers = {'LogReg': LogisticRegressionCV(random_state=42),\n",
    "                        'KNN': KNeighborsClassifier(n_neighbors=3),\n",
    "                        'SVC': SVC(gamma='auto', random_state=42),\n",
    "                        'DT': DecisionTreeClassifier(random_state=42),\n",
    "                        'RF': RandomForestClassifier(random_state=42),\n",
    "                        'Ada': AdaBoostClassifier(DecisionTreeClassifier(random_state=42), random_state=42), \n",
    "                        'XGB': XGBClassifier(random_state=42)}\n",
    "\n",
    "baseline = {}\n",
    "for clf in baseline_classifiers:\n",
    "    name = clf\n",
    "    clf = baseline_classifiers[clf]\n",
    "    clf.fit(X_train, y_train)\n",
    "    preds = clf.predict(X_test)\n",
    "    acc = accuracy_score(y_test, preds)\n",
    "    baseline[name] = acc\n",
    "print(pd.Series(baseline).sort_values(ascending=False))"
   ]
  },
  {
   "cell_type": "markdown",
   "metadata": {},
   "source": [
    "**Most models are seeing a lot of improvement––the KNN model's accuracy increased from 59% to 84%; the SVC's accuracy incrased from 55% to 81%––with the exception of dear XGBoost, which saw a 4% decrease. I'll use these models as my baseline for comparing models with finetuned hyperparameters.**"
   ]
  },
  {
   "cell_type": "markdown",
   "metadata": {},
   "source": [
    "## Tuning Model Hyperparameters"
   ]
  },
  {
   "cell_type": "markdown",
   "metadata": {},
   "source": [
    "I used [LogisticRegressionCV](https://scikit-learn.org/stable/modules/generated/sklearn.linear_model.LogisticRegressionCV.html) in my baseline model as opposed to LogisticRegression, which is probably why it performed so well out of the box, so it's already pretty well tuned. I start with the KNN model."
   ]
  },
  {
   "cell_type": "markdown",
   "metadata": {},
   "source": [
    "### KNN"
   ]
  },
  {
   "cell_type": "code",
   "execution_count": 168,
   "metadata": {},
   "outputs": [
    {
     "name": "stdout",
     "output_type": "stream",
     "text": [
      "Train Accuracy: 0.8288288288288288\n",
      "Test Accuracy: 0.8266666666666667\n",
      "{'n_neighbors': 60, 'p': 2, 'weights': 'distance'}\n"
     ]
    },
    {
     "name": "stderr",
     "output_type": "stream",
     "text": [
      "/Users/stlanier/opt/anaconda3/envs/learn-env/lib/python3.6/site-packages/sklearn/model_selection/_search.py:813: DeprecationWarning: The default of the `iid` parameter will change from True to False in version 0.22 and will be removed in 0.24. This will change numeric results when test-set sizes are unequal.\n",
      "  DeprecationWarning)\n"
     ]
    }
   ],
   "source": [
    "clf_knn = KNeighborsClassifier()\n",
    "param_grid = {\n",
    "    'n_neighbors': list(range(1, 100)),\n",
    "    'weights': ['uniform', 'distance'],\n",
    "    'p': [1, 2, 3],\n",
    "    \n",
    "}\n",
    "gs_knn = GridSearchCV(clf_knn, param_grid, scoring='accuracy', cv=10)\n",
    "gs_knn.fit(X_train, y_train)\n",
    "print(f'Train Accuracy: {gs_knn.best_score_}')\n",
    "test_accuracies = {}\n",
    "test_accuracies['KNN'] = accuracy_score(y_test, gs_knn.predict(X_test))\n",
    "print(f'Test Accuracy: {test_accuracies[\"KNN\"]}')\n",
    "print(gs_knn.best_params_)"
   ]
  },
  {
   "cell_type": "markdown",
   "metadata": {},
   "source": [
    "### Support Vector Classifier (Linear)"
   ]
  },
  {
   "cell_type": "code",
   "execution_count": 169,
   "metadata": {
    "scrolled": true
   },
   "outputs": [
    {
     "name": "stdout",
     "output_type": "stream",
     "text": [
      "Train Accuracy: 0.8063063063063063\n",
      "Test Accuracy: 0.8533333333333334\n",
      "{'C': 0.7000000000000001, 'gamma': 'scale', 'kernel': 'linear'}\n"
     ]
    },
    {
     "name": "stderr",
     "output_type": "stream",
     "text": [
      "/Users/stlanier/opt/anaconda3/envs/learn-env/lib/python3.6/site-packages/sklearn/model_selection/_search.py:813: DeprecationWarning: The default of the `iid` parameter will change from True to False in version 0.22 and will be removed in 0.24. This will change numeric results when test-set sizes are unequal.\n",
      "  DeprecationWarning)\n"
     ]
    }
   ],
   "source": [
    "clf_svcl = SVC(random_state=42, probability=True)\n",
    "param_grid = {\n",
    "    'kernel': ['linear'], \n",
    "    'C': np.linspace(.1, 1, 10), \n",
    "    'gamma': ['scale', 'auto'], \n",
    "}\n",
    "gs_svcl = GridSearchCV(clf_svcl, param_grid, scoring='accuracy', cv=10)\n",
    "gs_svcl.fit(X_train, y_train)\n",
    "print(f'Train Accuracy: {gs_svcl.best_score_}')\n",
    "test_accuracies['Linear SVC'] = accuracy_score(y_test, gs_svcl.predict(X_test))\n",
    "print(f'Test Accuracy: {test_accuracies[\"Linear SVC\"]}')\n",
    "print(gs_svcl.best_params_)"
   ]
  },
  {
   "cell_type": "markdown",
   "metadata": {},
   "source": [
    "Test accuracy is quite a bit higher than train accuracy, which is a good sign the model isn't overfitting."
   ]
  },
  {
   "cell_type": "markdown",
   "metadata": {},
   "source": [
    "### Support Vector Classifier (Polynomial)"
   ]
  },
  {
   "cell_type": "code",
   "execution_count": 170,
   "metadata": {
    "scrolled": true
   },
   "outputs": [
    {
     "name": "stdout",
     "output_type": "stream",
     "text": [
      "Train Accuracy: 0.8063063063063063\n",
      "Test Accuracy: 0.8133333333333334\n",
      "{'C': 0.30000000000000004, 'coef0': 0.9, 'degree': 2, 'gamma': 'scale', 'kernel': 'poly'}\n"
     ]
    },
    {
     "name": "stderr",
     "output_type": "stream",
     "text": [
      "/Users/stlanier/opt/anaconda3/envs/learn-env/lib/python3.6/site-packages/sklearn/model_selection/_search.py:813: DeprecationWarning: The default of the `iid` parameter will change from True to False in version 0.22 and will be removed in 0.24. This will change numeric results when test-set sizes are unequal.\n",
      "  DeprecationWarning)\n"
     ]
    }
   ],
   "source": [
    "clf_svcp = SVC(random_state=42, probability=True)\n",
    "param_grid = {\n",
    "    'kernel': ['poly'], \n",
    "    'degree': list(range(2, 6)), \n",
    "    'coef0': np.linspace(.1, 1, 10), \n",
    "    'C': np.linspace(.1, 1, 10), \n",
    "    'gamma': ['scale', 'auto'], \n",
    "}\n",
    "gs_svcp = GridSearchCV(clf_svcp, param_grid, scoring='accuracy', cv=10)\n",
    "gs_svcp.fit(X_train, y_train)\n",
    "print(f'Train Accuracy: {gs_svcp.best_score_}')\n",
    "test_accuracies['Polynomial SVC'] = accuracy_score(y_test, gs_svcp.predict(X_test))\n",
    "print(f'Test Accuracy: {test_accuracies[\"Polynomial SVC\"]}')\n",
    "print(gs_svcp.best_params_)"
   ]
  },
  {
   "cell_type": "markdown",
   "metadata": {},
   "source": [
    "### Support Vector Classifier (Sigmoid)"
   ]
  },
  {
   "cell_type": "code",
   "execution_count": 171,
   "metadata": {},
   "outputs": [
    {
     "name": "stdout",
     "output_type": "stream",
     "text": [
      "Train Accuracy: 0.8243243243243243\n",
      "Test Accuracy: 0.88\n",
      "{'C': 0.07, 'coef0': 1.0, 'gamma': 'scale', 'kernel': 'sigmoid'}\n"
     ]
    },
    {
     "name": "stderr",
     "output_type": "stream",
     "text": [
      "/Users/stlanier/opt/anaconda3/envs/learn-env/lib/python3.6/site-packages/sklearn/model_selection/_search.py:813: DeprecationWarning: The default of the `iid` parameter will change from True to False in version 0.22 and will be removed in 0.24. This will change numeric results when test-set sizes are unequal.\n",
      "  DeprecationWarning)\n"
     ]
    }
   ],
   "source": [
    "clf_svcs = SVC(random_state=42, probability=True)\n",
    "param_grid = {\n",
    "    'kernel': ['sigmoid'],\n",
    "    'coef0': np.linspace(1, 50, 10), \n",
    "    'C': np.linspace(.01, .1, 10), \n",
    "    'gamma': ['scale', 'auto'], \n",
    "}\n",
    "gs_svcs = GridSearchCV(clf_svcs, param_grid, scoring='accuracy', cv=10)\n",
    "gs_svcs.fit(X_train, y_train)\n",
    "print(f'Train Accuracy: {gs_svcs.best_score_}')\n",
    "test_accuracies['Sigmoid SVC'] = accuracy_score(y_test, gs_svcs.predict(X_test))\n",
    "print(f'Test Accuracy: {test_accuracies[\"Sigmoid SVC\"]}')\n",
    "print(gs_svcs.best_params_)"
   ]
  },
  {
   "cell_type": "markdown",
   "metadata": {},
   "source": [
    "Like the linear SVC, the sigmoid SVC seems to be excelling on test data."
   ]
  },
  {
   "cell_type": "markdown",
   "metadata": {},
   "source": [
    "### Support Vector Classifier (Radial Basis Function)"
   ]
  },
  {
   "cell_type": "code",
   "execution_count": 172,
   "metadata": {},
   "outputs": [
    {
     "name": "stdout",
     "output_type": "stream",
     "text": [
      "Train Accuracy: 0.8108108108108109\n",
      "Test Accuracy: 0.8533333333333334\n",
      "{'C': 0.05000000000000001, 'coef0': 0.001, 'gamma': 'scale', 'kernel': 'rbf'}\n"
     ]
    },
    {
     "name": "stderr",
     "output_type": "stream",
     "text": [
      "/Users/stlanier/opt/anaconda3/envs/learn-env/lib/python3.6/site-packages/sklearn/model_selection/_search.py:813: DeprecationWarning: The default of the `iid` parameter will change from True to False in version 0.22 and will be removed in 0.24. This will change numeric results when test-set sizes are unequal.\n",
      "  DeprecationWarning)\n"
     ]
    }
   ],
   "source": [
    "clf_svcrbf = SVC(random_state=42, probability=True)\n",
    "param_grid = {\n",
    "    'kernel': ['rbf'],\n",
    "    'coef0': np.linspace(.001, .01, 10), \n",
    "    'C': np.linspace(.01, .1, 10), \n",
    "    'gamma': ['scale', 'auto'], \n",
    "}\n",
    "gs_svcrbf = GridSearchCV(clf_svcrbf, param_grid, scoring='accuracy', cv=10)\n",
    "gs_svcrbf.fit(X_train, y_train)\n",
    "print(f'Train Accuracy: {gs_svcrbf.best_score_}')\n",
    "test_accuracies['RBF SVC'] = accuracy_score(y_test, gs_svcrbf.predict(X_test))\n",
    "print(f'Test Accuracy: {test_accuracies[\"RBF SVC\"]}')\n",
    "print(gs_svcrbf.best_params_)"
   ]
  },
  {
   "cell_type": "markdown",
   "metadata": {},
   "source": [
    "### Decision Tree"
   ]
  },
  {
   "cell_type": "code",
   "execution_count": 173,
   "metadata": {},
   "outputs": [
    {
     "name": "stdout",
     "output_type": "stream",
     "text": [
      "Train Accuracy: 0.8198198198198198\n",
      "Test Accuracy: 0.8666666666666667\n",
      "{'criterion': 'gini', 'max_depth': 5, 'min_samples_leaf': 10, 'min_samples_split': 10}\n"
     ]
    },
    {
     "name": "stderr",
     "output_type": "stream",
     "text": [
      "/Users/stlanier/opt/anaconda3/envs/learn-env/lib/python3.6/site-packages/sklearn/model_selection/_search.py:813: DeprecationWarning: The default of the `iid` parameter will change from True to False in version 0.22 and will be removed in 0.24. This will change numeric results when test-set sizes are unequal.\n",
      "  DeprecationWarning)\n"
     ]
    }
   ],
   "source": [
    "clf_dt = DecisionTreeClassifier(random_state=42)\n",
    "param_grid = {\n",
    "    'criterion': ['gini', 'entropy'],\n",
    "    'max_depth': [1, 3, 5, 7, 9, 11, 13, 15], \n",
    "    'min_samples_split': [10, 20, 30, 40, 50, 60], \n",
    "    'min_samples_leaf': [5, 10, 15, 20, 25, 30, 35, 40],\n",
    "}\n",
    "gs_dt = GridSearchCV(clf_dt, param_grid, scoring='accuracy', cv=10)\n",
    "gs_dt.fit(X_train, y_train)\n",
    "print(f'Train Accuracy: {gs_dt.best_score_}')\n",
    "test_accuracies['Decision Tree'] = accuracy_score(y_test, gs_dt.predict(X_test))\n",
    "print(f'Test Accuracy: {test_accuracies[\"Decision Tree\"]}')\n",
    "print(gs_dt.best_params_)"
   ]
  },
  {
   "cell_type": "code",
   "execution_count": 174,
   "metadata": {},
   "outputs": [
    {
     "data": {
      "text/plain": [
       "'\\nUsed this code to produce a .png file with visualization of decision tree.\\nCommented out now so as not to produce multiple files.\\n'"
      ]
     },
     "execution_count": 174,
     "metadata": {},
     "output_type": "execute_result"
    }
   ],
   "source": [
    "'''\n",
    "Used this code to produce a .png file with visualization of decision tree.\n",
    "Commented out now so as not to produce multiple files.\n",
    "'''\n",
    "\n",
    "# dot_data = tree.export_graphviz(gs_dt.best_estimator_,\n",
    "#                                 feature_names=X_train.columns,\n",
    "#                                 out_file=None,\n",
    "#                                 filled=True,\n",
    "#                                 rounded=True)\n",
    "# graph = pydotplus.graph_from_dot_data(dot_data)\n",
    "\n",
    "# colors = ('turquoise', 'orange')\n",
    "# edges = collections.defaultdict(list)\n",
    "\n",
    "# for edge in graph.get_edge_list():\n",
    "#     edges[edge.get_source()].append(int(edge.get_destination()))\n",
    "\n",
    "# for edge in edges:\n",
    "#     edges[edge].sort()    \n",
    "#     for i in range(2):\n",
    "#         dest = graph.get_node(str(edges[edge][i]))[0]\n",
    "#         dest.set_fillcolor(colors[i])\n",
    "\n",
    "# graph.write_png('tree.png')"
   ]
  },
  {
   "cell_type": "markdown",
   "metadata": {},
   "source": [
    "### Random Forest"
   ]
  },
  {
   "cell_type": "code",
   "execution_count": 175,
   "metadata": {},
   "outputs": [
    {
     "name": "stderr",
     "output_type": "stream",
     "text": [
      "[Parallel(n_jobs=1)]: Using backend SequentialBackend with 1 concurrent workers.\n"
     ]
    },
    {
     "name": "stdout",
     "output_type": "stream",
     "text": [
      "Fitting 3 folds for each of 192 candidates, totalling 576 fits\n",
      "Train Accuracy: 0.8063063063063063\n",
      "Test Accuracy: 0.8533333333333334\n",
      "{'criterion': 'gini', 'max_depth': 7, 'min_samples_leaf': 10, 'min_samples_split': 10, 'n_estimators': 100}\n"
     ]
    },
    {
     "name": "stderr",
     "output_type": "stream",
     "text": [
      "[Parallel(n_jobs=1)]: Done 576 out of 576 | elapsed:  3.1min finished\n"
     ]
    }
   ],
   "source": [
    "clf_rf = RandomForestClassifier(random_state=42)\n",
    "param_grid = {\n",
    "    'n_estimators': [50, 100, 500, 1000], \n",
    "    'criterion': ['gini', 'entropy'],\n",
    "    'max_depth': [1, 3, 7, 20], \n",
    "    'min_samples_split': [10, 40, 100], \n",
    "    'min_samples_leaf': [10, 100],\n",
    "}\n",
    "gs_rf = GridSearchCV(clf_rf, param_grid, verbose=1, scoring='accuracy', cv=3)\n",
    "gs_rf.fit(X_train, y_train)\n",
    "print(f'Train Accuracy: {gs_rf.best_score_}')\n",
    "test_accuracies['Random Forest'] = accuracy_score(y_test, gs_rf.predict(X_test))\n",
    "print(f'Test Accuracy: {test_accuracies[\"Random Forest\"]}')\n",
    "print(gs_rf.best_params_)"
   ]
  },
  {
   "cell_type": "markdown",
   "metadata": {},
   "source": [
    "### AdaBoost"
   ]
  },
  {
   "cell_type": "code",
   "execution_count": 176,
   "metadata": {
    "scrolled": true
   },
   "outputs": [
    {
     "name": "stderr",
     "output_type": "stream",
     "text": [
      "/Users/stlanier/opt/anaconda3/envs/learn-env/lib/python3.6/site-packages/sklearn/model_selection/_search.py:813: DeprecationWarning: The default of the `iid` parameter will change from True to False in version 0.22 and will be removed in 0.24. This will change numeric results when test-set sizes are unequal.\n",
      "  DeprecationWarning)\n"
     ]
    },
    {
     "name": "stdout",
     "output_type": "stream",
     "text": [
      "Train Accuracy: 0.8423423423423423\n",
      "Test Accuracy: 0.8666666666666667\n",
      "{'base_estimator': DecisionTreeClassifier(class_weight=None, criterion='gini', max_depth=1,\n",
      "                       max_features=None, max_leaf_nodes=None,\n",
      "                       min_impurity_decrease=0.0, min_impurity_split=None,\n",
      "                       min_samples_leaf=1, min_samples_split=2,\n",
      "                       min_weight_fraction_leaf=0.0, presort=False,\n",
      "                       random_state=None, splitter='best'), 'learning_rate': 0.001, 'n_estimators': 1000}\n"
     ]
    }
   ],
   "source": [
    "clf_ab = AdaBoostClassifier(algorithm='SAMME.R', random_state=42)\n",
    "param_grid = {\n",
    "    'base_estimator': [DecisionTreeClassifier(max_depth=1), LogisticRegression(solver='lbfgs', multi_class='auto')], \n",
    "    'n_estimators': [10, 30, 50, 1000], \n",
    "    'learning_rate': [.0001, .001, .01, .1]\n",
    "}\n",
    "gs_ab = GridSearchCV(clf_ab, param_grid, scoring='accuracy', cv=5)\n",
    "gs_ab.fit(X_train, y_train)\n",
    "print(f'Train Accuracy: {gs_ab.best_score_}')\n",
    "test_accuracies['AdaBoost'] = accuracy_score(y_test, gs_ab.predict(X_test))\n",
    "print(f'Test Accuracy: {test_accuracies[\"AdaBoost\"]}')\n",
    "print(gs_ab.best_params_)"
   ]
  },
  {
   "cell_type": "markdown",
   "metadata": {},
   "source": [
    "### XGBoost"
   ]
  },
  {
   "cell_type": "code",
   "execution_count": 177,
   "metadata": {},
   "outputs": [
    {
     "name": "stdout",
     "output_type": "stream",
     "text": [
      "Train Accuracy: 0.8423423423423423\n",
      "Test Accuracy: 0.84\n",
      "{'colsample_bytree': 0.5, 'learning_rate': 0.15, 'max_depth': 3, 'min_child_weight': 10, 'n_estimators': 10, 'subsample': 0.9}\n"
     ]
    },
    {
     "name": "stderr",
     "output_type": "stream",
     "text": [
      "/Users/stlanier/opt/anaconda3/envs/learn-env/lib/python3.6/site-packages/sklearn/model_selection/_search.py:813: DeprecationWarning: The default of the `iid` parameter will change from True to False in version 0.22 and will be removed in 0.24. This will change numeric results when test-set sizes are unequal.\n",
      "  DeprecationWarning)\n"
     ]
    }
   ],
   "source": [
    "clf_xgb = XGBClassifier(random_state=42, probability=True)\n",
    "param_grid = {\n",
    "    'max_depth': [1, 3, 5],\n",
    "    'learning_rate': [.05, .1, .15], \n",
    "    'subsample': [.7, .8, .9],\n",
    "    'colsample_bytree': np.linspace(.1, 1, 10),\n",
    "    'min_child_weight': [10, 20, 30], \n",
    "    'n_estimators': [10, 100, 500]\n",
    "}\n",
    "gs_xgb = GridSearchCV(clf_xgb, param_grid, scoring='accuracy', cv=5)\n",
    "gs_xgb.fit(X_train, y_train)\n",
    "print(f'Train Accuracy: {gs_xgb.best_score_}')\n",
    "test_accuracies['XGBoost'] = accuracy_score(y_test, gs_xgb.predict(X_test))\n",
    "print(f'Test Accuracy: {test_accuracies[\"XGBoost\"]}')\n",
    "print(gs_xgb.best_params_)"
   ]
  },
  {
   "cell_type": "markdown",
   "metadata": {},
   "source": [
    "### Summary"
   ]
  },
  {
   "cell_type": "code",
   "execution_count": 178,
   "metadata": {},
   "outputs": [
    {
     "data": {
      "text/plain": [
       "Sigmoid SVC       0.880000\n",
       "AdaBoost          0.866667\n",
       "Decision Tree     0.866667\n",
       "lr                0.853333\n",
       "Random Forest     0.853333\n",
       "RBF SVC           0.853333\n",
       "Linear SVC        0.853333\n",
       "XGBoost           0.840000\n",
       "KNN               0.826667\n",
       "Polynomial SVC    0.813333\n",
       "dtype: float64"
      ]
     },
     "execution_count": 178,
     "metadata": {},
     "output_type": "execute_result"
    }
   ],
   "source": [
    "test_accuracies['lr'] = baseline['LogReg']\n",
    "pd.Series(test_accuracies).sort_values(ascending=False)"
   ]
  },
  {
   "cell_type": "markdown",
   "metadata": {},
   "source": [
    "## Creating an Ensemble Classifier"
   ]
  },
  {
   "cell_type": "markdown",
   "metadata": {},
   "source": [
    "Here I selected the three top performing models: the sigmoid kernel from the SVCs, AdaBoost from the boosters, and the decision tree over the random forest, for a total of **3 individual models**. I combined them into a single voting classifier below."
   ]
  },
  {
   "cell_type": "code",
   "execution_count": 203,
   "metadata": {},
   "outputs": [
    {
     "data": {
      "text/plain": [
       "0.8666666666666667"
      ]
     },
     "execution_count": 203,
     "metadata": {},
     "output_type": "execute_result"
    }
   ],
   "source": [
    "clf_votehard = VotingClassifier(\n",
    "    estimators=[('svcs', gs_svcs.best_estimator_),\n",
    "                ('dt', gs_dt.best_estimator_), \n",
    "                ('ab', gs_ab.best_estimator_)],\n",
    "    voting='hard')\n",
    "clf_votehard.fit(X_train, y_train)\n",
    "accuracy_score(y_test, clf_votehard.predict(X_test))"
   ]
  },
  {
   "cell_type": "code",
   "execution_count": 204,
   "metadata": {},
   "outputs": [
    {
     "data": {
      "text/plain": [
       "array([[35,  5],\n",
       "       [ 5, 30]])"
      ]
     },
     "execution_count": 204,
     "metadata": {},
     "output_type": "execute_result"
    }
   ],
   "source": [
    "confusion_matrix(y_test, clf_votehard.predict(X_test))"
   ]
  },
  {
   "cell_type": "markdown",
   "metadata": {},
   "source": [
    "This ensemble method does as well as two of the individual models, the decision tree and AdaBoost, but not as well the sigmoid SVC. I tried the same model, but with a soft voting system, giving a little more weight to the sigmoid SVC as it performed best on its own. I also included the KNN model hoping the extra diversity in models might produce a more powerful ensemble."
   ]
  },
  {
   "cell_type": "code",
   "execution_count": 206,
   "metadata": {},
   "outputs": [
    {
     "data": {
      "text/plain": [
       "0.8666666666666667"
      ]
     },
     "execution_count": 206,
     "metadata": {},
     "output_type": "execute_result"
    }
   ],
   "source": [
    "clf_votesoft = VotingClassifier(\n",
    "    estimators=[('knn', gs_knn.best_estimator_),\n",
    "                ('svcs', gs_svcs.best_estimator_), \n",
    "                ('dt', gs_dt.best_estimator_), \n",
    "                ('ab', gs_ab.best_estimator_)],\n",
    "    voting='soft', \n",
    "    weights=[1, 3, 1, 1])\n",
    "clf_votesoft.fit(X_train, y_train)\n",
    "accuracy_score(y_test, clf_votesoft.predict(X_test))"
   ]
  },
  {
   "cell_type": "code",
   "execution_count": 181,
   "metadata": {},
   "outputs": [
    {
     "data": {
      "text/plain": [
       "array([[34,  6],\n",
       "       [ 4, 31]])"
      ]
     },
     "execution_count": 181,
     "metadata": {},
     "output_type": "execute_result"
    }
   ],
   "source": [
    "confusion_matrix(y_test, clf_votesoft.predict(X_test))"
   ]
  },
  {
   "cell_type": "markdown",
   "metadata": {},
   "source": [
    "Again, the model performs as well as the decision tree and AdaBoost each do alone, making this a none too impressive model. "
   ]
  },
  {
   "cell_type": "markdown",
   "metadata": {},
   "source": [
    "Lastly, and I found this completely on accident, if I use the original data before standardization and dimensionality reduction and include the logistic regression model, I get the best accuracy on test data of all models. I find myself wishing I had an extra test dataset on which to try these 3 different ensemble models."
   ]
  },
  {
   "cell_type": "code",
   "execution_count": 195,
   "metadata": {
    "scrolled": true
   },
   "outputs": [
    {
     "name": "stderr",
     "output_type": "stream",
     "text": [
      "/Users/stlanier/opt/anaconda3/envs/learn-env/lib/python3.6/site-packages/sklearn/model_selection/_split.py:1978: FutureWarning: The default value of cv will change from 3 to 5 in version 0.22. Specify it explicitly to silence this warning.\n",
      "  warnings.warn(CV_WARNING, FutureWarning)\n",
      "/Users/stlanier/opt/anaconda3/envs/learn-env/lib/python3.6/site-packages/sklearn/linear_model/logistic.py:947: ConvergenceWarning: lbfgs failed to converge. Increase the number of iterations.\n",
      "  \"of iterations.\", ConvergenceWarning)\n",
      "/Users/stlanier/opt/anaconda3/envs/learn-env/lib/python3.6/site-packages/sklearn/linear_model/logistic.py:947: ConvergenceWarning: lbfgs failed to converge. Increase the number of iterations.\n",
      "  \"of iterations.\", ConvergenceWarning)\n",
      "/Users/stlanier/opt/anaconda3/envs/learn-env/lib/python3.6/site-packages/sklearn/linear_model/logistic.py:947: ConvergenceWarning: lbfgs failed to converge. Increase the number of iterations.\n",
      "  \"of iterations.\", ConvergenceWarning)\n",
      "/Users/stlanier/opt/anaconda3/envs/learn-env/lib/python3.6/site-packages/sklearn/linear_model/logistic.py:947: ConvergenceWarning: lbfgs failed to converge. Increase the number of iterations.\n",
      "  \"of iterations.\", ConvergenceWarning)\n",
      "/Users/stlanier/opt/anaconda3/envs/learn-env/lib/python3.6/site-packages/sklearn/linear_model/logistic.py:947: ConvergenceWarning: lbfgs failed to converge. Increase the number of iterations.\n",
      "  \"of iterations.\", ConvergenceWarning)\n",
      "/Users/stlanier/opt/anaconda3/envs/learn-env/lib/python3.6/site-packages/sklearn/linear_model/logistic.py:947: ConvergenceWarning: lbfgs failed to converge. Increase the number of iterations.\n",
      "  \"of iterations.\", ConvergenceWarning)\n",
      "/Users/stlanier/opt/anaconda3/envs/learn-env/lib/python3.6/site-packages/sklearn/linear_model/logistic.py:947: ConvergenceWarning: lbfgs failed to converge. Increase the number of iterations.\n",
      "  \"of iterations.\", ConvergenceWarning)\n",
      "/Users/stlanier/opt/anaconda3/envs/learn-env/lib/python3.6/site-packages/sklearn/linear_model/logistic.py:947: ConvergenceWarning: lbfgs failed to converge. Increase the number of iterations.\n",
      "  \"of iterations.\", ConvergenceWarning)\n",
      "/Users/stlanier/opt/anaconda3/envs/learn-env/lib/python3.6/site-packages/sklearn/linear_model/logistic.py:947: ConvergenceWarning: lbfgs failed to converge. Increase the number of iterations.\n",
      "  \"of iterations.\", ConvergenceWarning)\n",
      "/Users/stlanier/opt/anaconda3/envs/learn-env/lib/python3.6/site-packages/sklearn/linear_model/logistic.py:947: ConvergenceWarning: lbfgs failed to converge. Increase the number of iterations.\n",
      "  \"of iterations.\", ConvergenceWarning)\n",
      "/Users/stlanier/opt/anaconda3/envs/learn-env/lib/python3.6/site-packages/sklearn/linear_model/logistic.py:947: ConvergenceWarning: lbfgs failed to converge. Increase the number of iterations.\n",
      "  \"of iterations.\", ConvergenceWarning)\n",
      "/Users/stlanier/opt/anaconda3/envs/learn-env/lib/python3.6/site-packages/sklearn/linear_model/logistic.py:947: ConvergenceWarning: lbfgs failed to converge. Increase the number of iterations.\n",
      "  \"of iterations.\", ConvergenceWarning)\n",
      "/Users/stlanier/opt/anaconda3/envs/learn-env/lib/python3.6/site-packages/sklearn/linear_model/logistic.py:947: ConvergenceWarning: lbfgs failed to converge. Increase the number of iterations.\n",
      "  \"of iterations.\", ConvergenceWarning)\n",
      "/Users/stlanier/opt/anaconda3/envs/learn-env/lib/python3.6/site-packages/sklearn/linear_model/logistic.py:947: ConvergenceWarning: lbfgs failed to converge. Increase the number of iterations.\n",
      "  \"of iterations.\", ConvergenceWarning)\n",
      "/Users/stlanier/opt/anaconda3/envs/learn-env/lib/python3.6/site-packages/sklearn/linear_model/logistic.py:947: ConvergenceWarning: lbfgs failed to converge. Increase the number of iterations.\n",
      "  \"of iterations.\", ConvergenceWarning)\n",
      "/Users/stlanier/opt/anaconda3/envs/learn-env/lib/python3.6/site-packages/sklearn/linear_model/logistic.py:947: ConvergenceWarning: lbfgs failed to converge. Increase the number of iterations.\n",
      "  \"of iterations.\", ConvergenceWarning)\n",
      "/Users/stlanier/opt/anaconda3/envs/learn-env/lib/python3.6/site-packages/sklearn/linear_model/logistic.py:947: ConvergenceWarning: lbfgs failed to converge. Increase the number of iterations.\n",
      "  \"of iterations.\", ConvergenceWarning)\n",
      "/Users/stlanier/opt/anaconda3/envs/learn-env/lib/python3.6/site-packages/sklearn/linear_model/logistic.py:947: ConvergenceWarning: lbfgs failed to converge. Increase the number of iterations.\n",
      "  \"of iterations.\", ConvergenceWarning)\n",
      "/Users/stlanier/opt/anaconda3/envs/learn-env/lib/python3.6/site-packages/sklearn/linear_model/logistic.py:947: ConvergenceWarning: lbfgs failed to converge. Increase the number of iterations.\n",
      "  \"of iterations.\", ConvergenceWarning)\n",
      "/Users/stlanier/opt/anaconda3/envs/learn-env/lib/python3.6/site-packages/sklearn/linear_model/logistic.py:947: ConvergenceWarning: lbfgs failed to converge. Increase the number of iterations.\n",
      "  \"of iterations.\", ConvergenceWarning)\n",
      "/Users/stlanier/opt/anaconda3/envs/learn-env/lib/python3.6/site-packages/sklearn/linear_model/logistic.py:947: ConvergenceWarning: lbfgs failed to converge. Increase the number of iterations.\n",
      "  \"of iterations.\", ConvergenceWarning)\n",
      "/Users/stlanier/opt/anaconda3/envs/learn-env/lib/python3.6/site-packages/sklearn/linear_model/logistic.py:947: ConvergenceWarning: lbfgs failed to converge. Increase the number of iterations.\n",
      "  \"of iterations.\", ConvergenceWarning)\n",
      "/Users/stlanier/opt/anaconda3/envs/learn-env/lib/python3.6/site-packages/sklearn/linear_model/logistic.py:947: ConvergenceWarning: lbfgs failed to converge. Increase the number of iterations.\n",
      "  \"of iterations.\", ConvergenceWarning)\n",
      "/Users/stlanier/opt/anaconda3/envs/learn-env/lib/python3.6/site-packages/sklearn/linear_model/logistic.py:947: ConvergenceWarning: lbfgs failed to converge. Increase the number of iterations.\n",
      "  \"of iterations.\", ConvergenceWarning)\n"
     ]
    },
    {
     "data": {
      "text/plain": [
       "0.8933333333333333"
      ]
     },
     "execution_count": 195,
     "metadata": {},
     "output_type": "execute_result"
    }
   ],
   "source": [
    "X_train, X_test, y_train, y_test = train_test_split(X, y, test_size=.25, random_state=123)\n",
    "clf_votesoft = VotingClassifier(\n",
    "    estimators=[('lr', baseline_classifiers['LogReg']),\n",
    "                ('knn', gs_knn.best_estimator_), \n",
    "                ('svcs', gs_svcs.best_estimator_), \n",
    "                ('dt', gs_dt.best_estimator_), \n",
    "                ('ab', gs_ab.best_estimator_)],\n",
    "    voting='soft', \n",
    "    weights=[1, 1, 3, 2, 2])\n",
    "clf_votesoft.fit(X_train, y_train)b\n",
    "accuracy_score(y_test, clf_votesoft.predict(X_test))"
   ]
  },
  {
   "cell_type": "code",
   "execution_count": 196,
   "metadata": {},
   "outputs": [
    {
     "data": {
      "text/plain": [
       "array([[37,  3],\n",
       "       [ 5, 30]])"
      ]
     },
     "execution_count": 196,
     "metadata": {},
     "output_type": "execute_result"
    }
   ],
   "source": [
    "confusion_matrix(y_test, clf_votesoft.predict(X_test))"
   ]
  },
  {
   "cell_type": "code",
   "execution_count": 182,
   "metadata": {
    "scrolled": true
   },
   "outputs": [
    {
     "data": {
      "text/plain": [
       "\"\\nHere I tried a lot of different weight combos in a soft vote classifier \\nwith 4 of the best performing models, but wasn't able to beat the 87% accuracy\\nabove. Already the algorithm is time consuming, and it is inelegant, so I have\\ncommented it out. Possibly future work.\\n\""
      ]
     },
     "execution_count": 182,
     "metadata": {},
     "output_type": "execute_result"
    }
   ],
   "source": [
    "'''\n",
    "Here I tried a lot of different weight combos in a soft vote classifier \n",
    "with 4 of the best performing models, but wasn't able to beat the 87%-89% accuracy\n",
    "above. Already the algorithm is time consuming, and it is inelegant, so I have\n",
    "commented it out. Possibly future work.\n",
    "'''\n",
    "\n",
    "# w = [0, 1, 2, 3]\n",
    "# combos = []\n",
    "# scores = []\n",
    "# for a in w:\n",
    "#     for b in w:\n",
    "#         for c in w:\n",
    "#             for d in w:\n",
    "#                 if a==0 and b==0 and c==0 and d==0: \n",
    "#                     continue\n",
    "#                 else:\n",
    "#                     clf_votesoft = VotingClassifier(\n",
    "#                         estimators=[('lr', baseline_classifiers['LogReg']), \n",
    "#                                     ('svcs', gs_svcs.best_estimator_),\n",
    "#                                     ('dt', gs_dt.best_estimator_), \n",
    "#                                     ('ab', gs_ab.best_estimator_)],\n",
    "#                         voting='soft', \n",
    "#                         weights=[a, b, c, d])\n",
    "#                     clf_votesoft.fit(X_train, y_train)\n",
    "#                     combos.append([a, b, c, d])\n",
    "#                     scores.append(accuracy_score(y_test, clf_votesoft.predict(X_test)))\n",
    "# df = pd.DataFrame([combos, scores]).T\n",
    "# df.columns = ['combos', 'accuracy']\n",
    "# df.sort_values(by='combos', ascending=True).head(15)"
   ]
  },
  {
   "cell_type": "markdown",
   "metadata": {},
   "source": [
    "## Conclusion"
   ]
  },
  {
   "cell_type": "markdown",
   "metadata": {},
   "source": [
    "1. There was little preprocessing necessary for this project as the [dataset](https://www.kaggle.com/danimal/heartdiseaseensembleclassifier) was already quite clean. I used a **heatmap of Pearson correlation coefficients** to identify correlated features (which I dropped) and used **feature importance** from a Random Forest to select the 7 most important features of the original 13. Lastly, I **standardized** all features. \n",
    "\n",
    "\n",
    "2. After tuning, accuracy on test data improved for all models except logistic regression, which lost 2% accuracy:\n",
    "\n",
    "| Model | Initial Test Accuracy | Final Test Accuracy |\n",
    "|-|-|-|\n",
    "| Ensemble Classifier (Soft, Unprocessed) | -- | **89%** |\n",
    "| Sigmoid SVC | 55% | **88%** |\n",
    "| AdaBoost | 72% | **87%** |\n",
    "| Decision Tree | 77% | **87%** |\n",
    "| Ensemble Classifier (Soft) | -- | **87%** |\n",
    "| Ensemble Classifier (Hard) | -- | **87%** |\n",
    "| Logistic Regression | 87% | **85%** |\n",
    "| Random Forest | 83% | **85%** |\n",
    "| XGBoost | 81% | **84%** |\n",
    "| KNN | 59% | **82%** |\n",
    "\n",
    "\n",
    "3. On the preprocessed, feature-selected data, hard- and soft-vote ensemble classifiers both achieved 87% accuracy on test data. The hard-vote ensemble consisted of a sigmoid SVC, a decision tree, and an AdaBoost classifier; the soft-vote classifier additionally included a KNN classifier.\n",
    "\n",
    "\n",
    "4. **The model with the highest accuracy on test data (89%) was a soft-vote ensemble classifier using a sigmoid SVC, a decision tree, an AdaBoost classifier, a KNN classifier, and a logistic regression classifier. It was only able to achieve this accuracy on data *that had not undergone dimensionality reduction or standardization* (but had been cleaned of missing values).**"
   ]
  }
 ],
 "metadata": {
  "kernelspec": {
   "display_name": "Python [conda env:learn-env] *",
   "language": "python",
   "name": "conda-env-learn-env-py"
  },
  "language_info": {
   "codemirror_mode": {
    "name": "ipython",
    "version": 3
   },
   "file_extension": ".py",
   "mimetype": "text/x-python",
   "name": "python",
   "nbconvert_exporter": "python",
   "pygments_lexer": "ipython3",
   "version": "3.6.9"
  }
 },
 "nbformat": 4,
 "nbformat_minor": 2
}
