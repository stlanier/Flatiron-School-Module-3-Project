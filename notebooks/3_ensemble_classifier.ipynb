{
 "cells": [
  {
   "cell_type": "markdown",
   "metadata": {},
   "source": [
    "# Ensemble Classifier"
   ]
  },
  {
   "cell_type": "code",
   "execution_count": 2,
   "metadata": {},
   "outputs": [],
   "source": [
    "import pandas as pd\n",
    "import numpy as np\n",
    "import matplotlib.pyplot as plt\n",
    "import seaborn as sns\n",
    "import pydotplus\n",
    "import collections\n",
    "import pickle\n",
    "import os\n",
    "\n",
    "from sklearn.model_selection import train_test_split, GridSearchCV, cross_val_score\n",
    "from sklearn.preprocessing import StandardScaler\n",
    "from sklearn.metrics import accuracy_score, recall_score, confusion_matrix\n",
    "\n",
    "from sklearn.neighbors import KNeighborsClassifier\n",
    "from sklearn.svm import SVC\n",
    "from sklearn import tree\n",
    "from sklearn.tree import DecisionTreeClassifier\n",
    "from sklearn.ensemble import RandomForestClassifier, AdaBoostClassifier, VotingClassifier\n",
    "from sklearn.linear_model import LogisticRegressionCV, LogisticRegression\n",
    "from xgboost import XGBClassifier\n",
    "\n",
    "%matplotlib inline"
   ]
  },
  {
   "cell_type": "code",
   "execution_count": 23,
   "metadata": {},
   "outputs": [],
   "source": [
    "data = {}\n",
    "for dataset in os.listdir('../data/preprocessed'):\n",
    "    with open(f'../data/preprocessed/{dataset}', 'rb') as fp:\n",
    "        data[dataset[:-4]] = pickle.load(fp)\n",
    "        \n",
    "X_train = data['X_train']\n",
    "X_test = data['X_test']\n",
    "y_train = data['y_train']\n",
    "y_test = data['y_test']"
   ]
  },
  {
   "cell_type": "code",
   "execution_count": 15,
   "metadata": {},
   "outputs": [],
   "source": [
    "models = {}\n",
    "for model in os.listdir('../models'):\n",
    "    with open(f'../models/{model}', 'rb') as fp:\n",
    "        models[model[:-4]] = pickle.load(fp)"
   ]
  },
  {
   "cell_type": "code",
   "execution_count": 32,
   "metadata": {},
   "outputs": [
    {
     "name": "stdout",
     "output_type": "stream",
     "text": [
      "svcp:\t0.8571428571428571\n",
      "svcs:\t0.8571428571428571\n",
      "ab:\t0.8571428571428571\n",
      "lr:\t0.8857142857142857\n",
      "svcrbf:\t0.8857142857142857\n",
      "rf:\t0.8571428571428571\n",
      "knn:\t0.8285714285714286\n",
      "dt:\t0.8571428571428571\n",
      "xgb:\t0.8285714285714286\n",
      "svcl:\t0.8857142857142857\n"
     ]
    }
   ],
   "source": [
    "for model in models:\n",
    "    print(f'{model}:\\t{recall_score(y_test, models[model].predict(X_test))}')"
   ]
  },
  {
   "cell_type": "markdown",
   "metadata": {},
   "source": [
    "Here I selected the three top performing models: the sigmoid kernel from the SVCs, AdaBoost from the boosters, and the decision tree over the random forest, for a total of **3 individual models**. I combined them into a single voting classifier below."
   ]
  },
  {
   "cell_type": "code",
   "execution_count": 33,
   "metadata": {},
   "outputs": [
    {
     "data": {
      "text/plain": [
       "0.8857142857142857"
      ]
     },
     "execution_count": 33,
     "metadata": {},
     "output_type": "execute_result"
    }
   ],
   "source": [
    "clf_votehard = VotingClassifier(\n",
    "    estimators=[('svcl', models['svcl']),\n",
    "                ('lr', models['lr']), \n",
    "                ('ab', models['ab'])],\n",
    "    voting='hard')\n",
    "clf_votehard.fit(X_train, y_train)\n",
    "recall_score(y_test, clf_votehard.predict(X_test))"
   ]
  },
  {
   "cell_type": "code",
   "execution_count": 25,
   "metadata": {},
   "outputs": [
    {
     "data": {
      "text/plain": [
       "array([[33,  7],\n",
       "       [ 4, 31]])"
      ]
     },
     "execution_count": 25,
     "metadata": {},
     "output_type": "execute_result"
    }
   ],
   "source": [
    "confusion_matrix(y_test, clf_votehard.predict(X_test))"
   ]
  },
  {
   "cell_type": "markdown",
   "metadata": {},
   "source": [
    "This ensemble method does as well as two of the individual models, the decision tree and AdaBoost, but not as well the sigmoid SVC. I tried the same model, but with a soft voting system, giving a little more weight to the sigmoid SVC as it performed best on its own. I also included the KNN model hoping the extra diversity in models might produce a more powerful ensemble."
   ]
  },
  {
   "cell_type": "code",
   "execution_count": 46,
   "metadata": {},
   "outputs": [
    {
     "name": "stdout",
     "output_type": "stream",
     "text": [
      "Train Recall: 0.7847619047619048\n",
      "Test Recall: 0.8571428571428571\n",
      "Train Accuracy: 0.8558558558558559\n",
      "Test Accuracy: 0.84\n",
      "{'weights': [1, 1, 3]}\n"
     ]
    }
   ],
   "source": [
    "param_grid = {\n",
    "#     'ab__base_estimator': [DecisionTreeClassifier(max_depth=1), LogisticRegression(solver='lbfgs', multi_class='auto')], \n",
    "#     'ab__n_estimators': [10, 30, 50, 1000], \n",
    "#     'ab__learning_rate': [.0001, .001, .01, .1],\n",
    "#     'svcl__kernel': ['linear'], \n",
    "#     'svcl__C': np.linspace(.1, 1, 10), \n",
    "#     'svcl__gamma': ['scale', 'auto'],\n",
    "    'weights': [[1,1,1], [3,1,1], [1,3,1], [1,1,3]]\n",
    "\n",
    "}\n",
    "gs_hard = GridSearchCV(clf_votehard, param_grid, scoring='recall', cv=5)\n",
    "gs_hard.fit(X_train, y_train)\n",
    "\n",
    "print(f'Train Recall: {gs_hard.best_score_}')\n",
    "print(f'Test Recall: {recall_score(y_test, gs_hard.predict(X_test))}')\n",
    "print(f'Train Accuracy: {accuracy_score(y_train, gs_hard.predict(X_train))}')\n",
    "print(f'Test Accuracy: {accuracy_score(y_test, gs_hard.predict(X_test))}')\n",
    "print(gs_hard.best_params_)"
   ]
  },
  {
   "cell_type": "code",
   "execution_count": 39,
   "metadata": {},
   "outputs": [
    {
     "data": {
      "text/plain": [
       "0.8857142857142857"
      ]
     },
     "execution_count": 39,
     "metadata": {},
     "output_type": "execute_result"
    }
   ],
   "source": [
    "clf_votesoft = VotingClassifier(\n",
    "    estimators=[('svcl', models['svcl']),\n",
    "                ('lr', models['lr']), \n",
    "                ('ab', models['ab'])],\n",
    "    voting='soft')\n",
    "clf_votesoft.fit(X_train, y_train)\n",
    "recall_score(y_test, clf_votesoft.predict(X_test))"
   ]
  },
  {
   "cell_type": "code",
   "execution_count": 40,
   "metadata": {},
   "outputs": [
    {
     "data": {
      "text/plain": [
       "array([[33,  7],\n",
       "       [ 4, 31]])"
      ]
     },
     "execution_count": 40,
     "metadata": {},
     "output_type": "execute_result"
    }
   ],
   "source": [
    "confusion_matrix(y_test, clf_votesoft.predict(X_test))"
   ]
  },
  {
   "cell_type": "markdown",
   "metadata": {},
   "source": [
    "Again, the model performs as well as the decision tree and AdaBoost each do alone, making this a none too impressive model. "
   ]
  },
  {
   "cell_type": "code",
   "execution_count": 47,
   "metadata": {},
   "outputs": [
    {
     "name": "stdout",
     "output_type": "stream",
     "text": [
      "Train Recall: 0.7461904761904761\n",
      "Test Recall: 0.8857142857142857\n",
      "Train Accuracy: 0.8288288288288288\n",
      "Test Accuracy: 0.8666666666666667\n",
      "{'weights': [1, 3, 1]}\n"
     ]
    }
   ],
   "source": [
    "gs_soft = GridSearchCV(clf_votesoft, param_grid, scoring='recall', cv=5)\n",
    "gs_soft.fit(X_train, y_train)\n",
    "\n",
    "print(f'Train Recall: {gs_soft.best_score_}')\n",
    "print(f'Test Recall: {recall_score(y_test, gs_soft.predict(X_test))}')\n",
    "print(f'Train Accuracy: {accuracy_score(y_train, gs_soft.predict(X_train))}')\n",
    "print(f'Test Accuracy: {accuracy_score(y_test, gs_soft.predict(X_test))}')\n",
    "print(gs_soft.best_params_)"
   ]
  },
  {
   "cell_type": "code",
   "execution_count": null,
   "metadata": {},
   "outputs": [],
   "source": []
  }
 ],
 "metadata": {
  "kernelspec": {
   "display_name": "Python 3",
   "language": "python",
   "name": "python3"
  },
  "language_info": {
   "codemirror_mode": {
    "name": "ipython",
    "version": 3
   },
   "file_extension": ".py",
   "mimetype": "text/x-python",
   "name": "python",
   "nbconvert_exporter": "python",
   "pygments_lexer": "ipython3",
   "version": "3.6.9"
  }
 },
 "nbformat": 4,
 "nbformat_minor": 4
}
